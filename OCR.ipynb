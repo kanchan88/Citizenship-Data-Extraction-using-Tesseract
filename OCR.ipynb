{
 "cells": [
  {
   "cell_type": "markdown",
   "metadata": {},
   "source": [
    "# Extracting Information from Citizenship(BACK)"
   ]
  },
  {
   "cell_type": "code",
   "execution_count": 74,
   "metadata": {},
   "outputs": [],
   "source": [
    "#imporing libraries\n",
    "import cv2 #opencv helps to work with image\n",
    "import pytesseract\n",
    "import re"
   ]
  },
  {
   "cell_type": "code",
   "execution_count": 95,
   "metadata": {},
   "outputs": [],
   "source": [
    "#read image\n",
    "im = cv2.imread(\"citizenav.png\")"
   ]
  },
  {
   "cell_type": "code",
   "execution_count": 96,
   "metadata": {},
   "outputs": [],
   "source": [
    "#color image to grey\n",
    "def make_grey(image):\n",
    "    new_img = cv2.cvtColor(image, cv2.COLOR_BGR2GRAY)\n",
    "    cv2.imwrite(\"img_gray.png\",new_img)\n",
    "    return new_img"
   ]
  },
  {
   "cell_type": "code",
   "execution_count": 97,
   "metadata": {},
   "outputs": [],
   "source": [
    "#greyscaled image to blurry\n",
    "def make_blurry(image):\n",
    "    new_img = cv2.GaussianBlur(image, (5,5),0)\n",
    "    cv2.imwrite(\"img_blurry.png\", new_img)\n",
    "    return new_img"
   ]
  },
  {
   "cell_type": "code",
   "execution_count": 98,
   "metadata": {},
   "outputs": [],
   "source": [
    "def set_threshold(image):\n",
    "    #pixels with value below 50 are turned black and those with higher value are turned white (255)\n",
    "    new_img = cv2.threshold(image, 50, 255, cv2.THRESH_OTSU | cv2.THRESH_BINARY)[1] \n",
    "    cv2.imwrite(\"img_threshold.png\",new_img)\n",
    "    return new_img"
   ]
  },
  {
   "cell_type": "code",
   "execution_count": 99,
   "metadata": {},
   "outputs": [],
   "source": [
    "im_gray = make_grey(im)\n",
    "im_blur = make_blurry(im_gray)\n",
    "im_thresh = set_threshold(im_blur)"
   ]
  },
  {
   "cell_type": "code",
   "execution_count": 100,
   "metadata": {},
   "outputs": [],
   "source": [
    "contours, hierarchy = cv2.findContours(im_thresh,cv2.RETR_TREE,cv2.CHAIN_APPROX_SIMPLE)"
   ]
  },
  {
   "cell_type": "code",
   "execution_count": 101,
   "metadata": {},
   "outputs": [],
   "source": [
    "def contours_text(orig, contours):\n",
    "    for cnt in contours: \n",
    "        x, y, w, h = cv2.boundingRect(cnt) \n",
    "\n",
    "        # Drawing a rectangle on copied image \n",
    "        rect = cv2.rectangle(orig, (x, y), (x + w, y + h), (0, 255, 255), 2) \n",
    "        \n",
    "        # Cropping the text block for giving input to OCR \n",
    "        cropped = orig[y:y + h, x:x + w] \n",
    "\n",
    "        # Apply OCR on the cropped image \n",
    "        config = ('-l eng --oem 1 --psm 6')\n",
    "        text = pytesseract.image_to_data(cropped, output_type=pytesseract.Output.DICT, config=config) \n",
    "                \n",
    "        return text"
   ]
  },
  {
   "cell_type": "code",
   "execution_count": 102,
   "metadata": {},
   "outputs": [],
   "source": [
    "data = contours_text(im, contours)"
   ]
  },
  {
   "cell_type": "code",
   "execution_count": 103,
   "metadata": {},
   "outputs": [],
   "source": [
    "parse_text = []\n",
    "word_list = []\n",
    "\n",
    "last_word = ''\n",
    "\n",
    "for word in data['text']:\n",
    "    if word!='':\n",
    "        word_list.append(word)\n",
    "        last_word = word\n",
    "\n",
    "    if (last_word!='' and word == '') or (word==data['text'][-1]):\n",
    "        parse_text.append(word_list)\n",
    "        word_list = []"
   ]
  },
  {
   "cell_type": "code",
   "execution_count": 104,
   "metadata": {},
   "outputs": [
    {
     "data": {
      "text/plain": [
       "[['|',\n",
       "  'Goverment',\n",
       "  'of',\n",
       "  'Nepal',\n",
       "  'has',\n",
       "  'sued',\n",
       "  'this',\n",
       "  'Citizenship',\n",
       "  'Cerificate',\n",
       "  'with',\n",
       "  'folowing',\n",
       "  'detais,'],\n",
       " ['Citizenship', 'Certificate', 'No.', '$0-01-71-03087', 'Sex:', 'Mak'],\n",
       " ['|', 'Full', 'Name.', 'ABHISHEK', 'SAPKOTA'],\n",
       " ['Date', 'of', 'Birth', '(AD):', 'Year-i997', 'MontaNOV', '—Day:07'],\n",
       " ['Birth', 'Place:', 'District:', 'Baghing'],\n",
       " ['Municipality.', 'Baghnne', 'Ward', 'So.4'],\n",
       " ['Permanent', 'Address-', 'District', 'Baglung'],\n",
       " ['Municipatity', 'Raghing', 'Ward', 'No.4'],\n",
       " ['ara', 'Cet', '2otg', 'Eaton', 'amie', 'Warrer', 'Sl'],\n",
       " ['amiftarer', 'Rattan', 're'],\n",
       " ['SANT', 'Tr', 'SIRT', 'eT', 'se'],\n",
       " ['wT', 'cal)'],\n",
       " ['are', 'At', '4', 'oe'],\n",
       " ['2', 'oe', 'saror', 'oem', 'RA', '(0'],\n",
       " ['ai', 'area', ':'],\n",
       " ['£', '‘', 'aa', 'ot', 'BET', 'neal', '|'],\n",
       " ['|', 'a', '|', 'RSS', 'ee,'],\n",
       " ['4', 'ls', 'aro', 'in', 'sealord', 'ag'],\n",
       " ['at',\n",
       "  'WOM',\n",
       "  'RE',\n",
       "  'Coat',\n",
       "  'aT',\n",
       "  'Teter',\n",
       "  'erica',\n",
       "  'at',\n",
       "  'eet',\n",
       "  'acchrearaempfegiey!']]"
      ]
     },
     "execution_count": 104,
     "metadata": {},
     "output_type": "execute_result"
    }
   ],
   "source": [
    "parse_text"
   ]
  },
  {
   "cell_type": "code",
   "execution_count": 105,
   "metadata": {},
   "outputs": [],
   "source": [
    "#changing all lines with list to single string\n",
    "line1 = ' '.join([str(elem) for elem in parse_text[1]])\n",
    "line2 = ' '.join([str(elem) for elem in parse_text[2]])\n",
    "line3 = ' '.join([str(elem) for elem in parse_text[3]])"
   ]
  },
  {
   "cell_type": "code",
   "execution_count": 106,
   "metadata": {},
   "outputs": [],
   "source": [
    "#pass line1 as line1 has all info related to citizen num\n",
    "def find_citizenship_num(line):\n",
    "    citizenship_num = re.findall('[0-9]+', line)\n",
    "    citizenship_num = '-'.join([str(elem) for elem in citizenship_num])\n",
    "    return citizenship_num"
   ]
  },
  {
   "cell_type": "code",
   "execution_count": 107,
   "metadata": {},
   "outputs": [],
   "source": [
    "#pass line2 as line 2 has all info related to name\n",
    "def find_name(line):\n",
    "    regex_for_name = r\"\\b[A-Z][A-Z]+\\b\"\n",
    "    full_name = re.findall(regex_for_name, line)\n",
    "    full_name = ' '.join([str(elem) for elem in full_name])\n",
    "    return full_name"
   ]
  },
  {
   "cell_type": "code",
   "execution_count": 108,
   "metadata": {},
   "outputs": [],
   "source": [
    "#pass line3 as line3 has all date info\n",
    "def find_date(line):\n",
    "    '''regex to find dates and month'''\n",
    "    date_regex = r'\\d+'\n",
    "    dates = re.findall(date_regex, line)\n",
    "    month_regex = r'\\b[A-Z]{3}'\n",
    "    month = re.findall(month_regex, line)\n",
    "    dates.append(month[0])\n",
    "    dates = '-'.join(str(elem) for elem in dates)\n",
    "    return dates"
   ]
  },
  {
   "cell_type": "code",
   "execution_count": 109,
   "metadata": {},
   "outputs": [],
   "source": [
    "citizenship_num = find_citizenship_num(line1)"
   ]
  },
  {
   "cell_type": "code",
   "execution_count": 110,
   "metadata": {},
   "outputs": [],
   "source": [
    "sex = parse_text[1][-1]"
   ]
  },
  {
   "cell_type": "code",
   "execution_count": 111,
   "metadata": {},
   "outputs": [],
   "source": [
    "full_name = find_name(line2)"
   ]
  },
  {
   "cell_type": "code",
   "execution_count": 112,
   "metadata": {},
   "outputs": [
    {
     "ename": "IndexError",
     "evalue": "list index out of range",
     "output_type": "error",
     "traceback": [
      "\u001b[0;31m---------------------------------------------------------------------------\u001b[0m",
      "\u001b[0;31mIndexError\u001b[0m                                Traceback (most recent call last)",
      "\u001b[0;32m<ipython-input-112-65eb9a58d5f2>\u001b[0m in \u001b[0;36m<module>\u001b[0;34m\u001b[0m\n\u001b[0;32m----> 1\u001b[0;31m \u001b[0mdates\u001b[0m \u001b[0;34m=\u001b[0m \u001b[0mfind_date\u001b[0m\u001b[0;34m(\u001b[0m\u001b[0mline3\u001b[0m\u001b[0;34m)\u001b[0m\u001b[0;34m\u001b[0m\u001b[0;34m\u001b[0m\u001b[0m\n\u001b[0m",
      "\u001b[0;32m<ipython-input-108-4e44d28ef141>\u001b[0m in \u001b[0;36mfind_date\u001b[0;34m(line)\u001b[0m\n\u001b[1;32m      6\u001b[0m     \u001b[0mmonth_regex\u001b[0m \u001b[0;34m=\u001b[0m \u001b[0;34mr'\\b[A-Z]{3}'\u001b[0m\u001b[0;34m\u001b[0m\u001b[0;34m\u001b[0m\u001b[0m\n\u001b[1;32m      7\u001b[0m     \u001b[0mmonth\u001b[0m \u001b[0;34m=\u001b[0m \u001b[0mre\u001b[0m\u001b[0;34m.\u001b[0m\u001b[0mfindall\u001b[0m\u001b[0;34m(\u001b[0m\u001b[0mmonth_regex\u001b[0m\u001b[0;34m,\u001b[0m \u001b[0mline\u001b[0m\u001b[0;34m)\u001b[0m\u001b[0;34m\u001b[0m\u001b[0;34m\u001b[0m\u001b[0m\n\u001b[0;32m----> 8\u001b[0;31m     \u001b[0mdates\u001b[0m\u001b[0;34m.\u001b[0m\u001b[0mappend\u001b[0m\u001b[0;34m(\u001b[0m\u001b[0mmonth\u001b[0m\u001b[0;34m[\u001b[0m\u001b[0;36m0\u001b[0m\u001b[0;34m]\u001b[0m\u001b[0;34m)\u001b[0m\u001b[0;34m\u001b[0m\u001b[0;34m\u001b[0m\u001b[0m\n\u001b[0m\u001b[1;32m      9\u001b[0m     \u001b[0mdates\u001b[0m \u001b[0;34m=\u001b[0m \u001b[0;34m'-'\u001b[0m\u001b[0;34m.\u001b[0m\u001b[0mjoin\u001b[0m\u001b[0;34m(\u001b[0m\u001b[0mstr\u001b[0m\u001b[0;34m(\u001b[0m\u001b[0melem\u001b[0m\u001b[0;34m)\u001b[0m \u001b[0;32mfor\u001b[0m \u001b[0melem\u001b[0m \u001b[0;32min\u001b[0m \u001b[0mdates\u001b[0m\u001b[0;34m)\u001b[0m\u001b[0;34m\u001b[0m\u001b[0;34m\u001b[0m\u001b[0m\n\u001b[1;32m     10\u001b[0m     \u001b[0;32mreturn\u001b[0m \u001b[0mdates\u001b[0m\u001b[0;34m\u001b[0m\u001b[0;34m\u001b[0m\u001b[0m\n",
      "\u001b[0;31mIndexError\u001b[0m: list index out of range"
     ]
    }
   ],
   "source": [
    "dates = find_date(line3)"
   ]
  },
  {
   "cell_type": "code",
   "execution_count": 113,
   "metadata": {},
   "outputs": [],
   "source": [
    "retreived = {}\n",
    "retreived['name'] = full_name\n",
    "retreived['citizenship_number'] = citizenship_num\n",
    "retreived['sex'] = sex\n",
    "retreived['dob'] = dates"
   ]
  },
  {
   "cell_type": "code",
   "execution_count": 114,
   "metadata": {},
   "outputs": [
    {
     "data": {
      "text/plain": [
       "{'name': 'ABHISHEK SAPKOTA',\n",
       " 'citizenship_number': '0-01-71-03087',\n",
       " 'sex': 'Mak',\n",
       " 'dob': '2001-14-APR'}"
      ]
     },
     "execution_count": 114,
     "metadata": {},
     "output_type": "execute_result"
    }
   ],
   "source": [
    "retreived"
   ]
  },
  {
   "cell_type": "code",
   "execution_count": null,
   "metadata": {},
   "outputs": [],
   "source": []
  },
  {
   "cell_type": "code",
   "execution_count": null,
   "metadata": {},
   "outputs": [],
   "source": []
  }
 ],
 "metadata": {
  "kernelspec": {
   "display_name": "Python 3",
   "language": "python",
   "name": "python3"
  },
  "language_info": {
   "codemirror_mode": {
    "name": "ipython",
    "version": 3
   },
   "file_extension": ".py",
   "mimetype": "text/x-python",
   "name": "python",
   "nbconvert_exporter": "python",
   "pygments_lexer": "ipython3",
   "version": "3.7.4"
  }
 },
 "nbformat": 4,
 "nbformat_minor": 2
}
